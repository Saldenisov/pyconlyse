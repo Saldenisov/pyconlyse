{
 "cells": [
  {
   "cell_type": "code",
   "execution_count": 19,
   "id": "seasonal-contents",
   "metadata": {},
   "outputs": [],
   "source": [
    "import re\n",
    "with open (\"C:/Users/Sergey Denisov/ownCloud/LCP/Projects/3P/FirstPaper/mini-review/solvate_electron_water.bib\", \"r\") as myfile:\n",
    "    s=myfile.read()\n",
    "\n",
    "regex = '(doi = ){(.*?)}'"
   ]
  },
  {
   "cell_type": "code",
   "execution_count": 20,
   "id": "equivalent-watson",
   "metadata": {},
   "outputs": [
    {
     "name": "stdout",
     "output_type": "stream",
     "text": [
      "['10.1146/annurev-physchem-052516-050816', '10.1063/1.1675542', '10.1038/186751a0', '10.1002/andp.18641970407', '10.1103/PhysRevLett.80.4645', '10.1524/zpch.1999.212.Part_2.153', '10.1021/jp980254v', '10.1021/jp992482a', '10.1016/j.cplett.2004.03.107', '10.1126/science.1102827', '10.1038/182227e0', '10.1021/j100347a002', '10.1021/ja00164a013', '10.1021/j100103a024', '10.1016/0301-0104(90)80126-I', '10.1021/j100155a010', '10.1016/0167-7322(95)92821-R', '10.1103/PhysRevLett.80.1086', '10.1021/j100064a029', '10.1016/0009-2614(94)01314-L', '10.1021/jp004516g', '10.1021/jp970354l', '10.1021/jp980861i', '10.1021/j100593a009', '10.1063/1.1840498', '10.1021/ja00880a025', '10.1038/197045a0', '10.1126/science.146.3652.1664-d', '10.1021/j100338a010', '10.1016/0009-2614(90)85182-C', '10.1016/0009-2614(91)80137-M', '10.1021/j100018a024', '10.1021/jp961261r', '10.1016/S0969-806X(97)00316-2', '10.1103/PhysRevLett.64.1469', '10.1021/ja00024a012', '10.1063/1.1673923', '10.1063/1.1673922', '10.1063/1.1675784', 'doi.org/10.1021/j100593a007', '10.1039/b913688f', '10.1016/0009-2614(80)85199-2', '10.1103/PhysRevLett.69.3389', '10.1021/j100079a020', '10.1021/j100211a007', '10.1016/0009-2614(72)80353-1', '10.1063/1.1680087', '10.1021/jp970174b', '10.1038/nchem.1995', '10.1021/ja01951a001', '10.1103/PhysRevLett.85.50', '10.1021/jp972499y', '10.1063/1.479979', '10.1063/1.2155481', '10.1016/S0009-2614(99)01369-X', '10.1021/jp012184p', '10.1016/S0009-2614(02)00203-8', '10.1126/science.1246291', '10.1021/jp961462v', '10.1063/1.456695', '10.1063/1.477282', '10.1021/cr300144z', '10.1016/0301-0104(83)85070-8', '10.1002/jcc.25536', '10.1016/j.cplett.2004.07.109', '10.1021/jp0119173', '10.1016/B978-044451656-5/50044-X', '10.1039/a906950j', '10.1039/b204530n', '10.1021/jp014291p']\n"
     ]
    }
   ],
   "source": [
    "res = re.findall(regex, s)\n",
    "dois = [i[1] for i in res]\n",
    "res_s = \"\\n\".join(dois)\n",
    "with open(\"C:/Users/Sergey Denisov/ownCloud/LCP/Projects/3P/FirstPaper/mini-review/dois.txt\", \"w\") as text_file:\n",
    "    text_file.write(res_s)\n",
    "print(dois)"
   ]
  },
  {
   "cell_type": "code",
   "execution_count": null,
   "id": "stylish-elder",
   "metadata": {},
   "outputs": [],
   "source": []
  }
 ],
 "metadata": {
  "kernelspec": {
   "display_name": "Python 3",
   "language": "python",
   "name": "python3"
  },
  "language_info": {
   "codemirror_mode": {
    "name": "ipython",
    "version": 3
   },
   "file_extension": ".py",
   "mimetype": "text/x-python",
   "name": "python",
   "nbconvert_exporter": "python",
   "pygments_lexer": "ipython3",
   "version": "3.9.1"
  }
 },
 "nbformat": 4,
 "nbformat_minor": 5
}
