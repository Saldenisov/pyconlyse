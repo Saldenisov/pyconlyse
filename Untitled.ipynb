{
 "cells": [
  {
   "cell_type": "code",
   "execution_count": 19,
   "id": "hourly-myanmar",
   "metadata": {},
   "outputs": [],
   "source": [
    "import re\n",
    "with open (\"C:/Users/Sergey Denisov/ownCloud/LCP/Projects/3P/FirstPaper/mini-review/solvate_electron_water.bib\", \"r\") as myfile:\n",
    "    s=myfile.read()\n",
    "\n",
    "regex = '(doi = ){(.*?)}'"
   ]
  },
  {
   "cell_type": "code",
   "execution_count": 23,
   "id": "entire-plate",
   "metadata": {},
   "outputs": [],
   "source": [
    "res = re.findall(regex, s)\n",
    "dois = [i[1] for i in res]\n",
    "res_s = \"\\n\".join(dois)\n",
    "with open(\"C:/Users/Sergey Denisov/ownCloud/LCP/Projects/3P/FirstPaper/mini-review/dois.txt\", \"w\") as text_file:\n",
    "    text_file.write(res_s)"
   ]
  },
  {
   "cell_type": "code",
   "execution_count": null,
   "id": "swiss-persian",
   "metadata": {},
   "outputs": [],
   "source": []
  }
 ],
 "metadata": {
  "kernelspec": {
   "display_name": "Python 3",
   "language": "python",
   "name": "python3"
  },
  "language_info": {
   "codemirror_mode": {
    "name": "ipython",
    "version": 3
   },
   "file_extension": ".py",
   "mimetype": "text/x-python",
   "name": "python",
   "nbconvert_exporter": "python",
   "pygments_lexer": "ipython3",
   "version": "3.9.1"
  }
 },
 "nbformat": 4,
 "nbformat_minor": 5
}
